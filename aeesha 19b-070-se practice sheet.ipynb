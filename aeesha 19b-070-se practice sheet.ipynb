{
 "cells": [
  {
   "cell_type": "markdown",
   "metadata": {},
   "source": [
    "# AREESHA 19B-070-SE SEC-A"
   ]
  },
  {
   "cell_type": "markdown",
   "metadata": {},
   "source": [
    "# Python User Define Function Practice Activity - 2 "
   ]
  },
  {
   "cell_type": "markdown",
   "metadata": {},
   "source": [
    "Asst. Prof. Syed Faisal Ali              $\\;\\;\\;\\;\\;\\;$              Programming Fundamentals - FALL 2019 $\\;\\;\\;\\;\\;\\;$ Software Engineering                     $\\;\\;\\;\\;\\;\\;$                   Dated: 27 Nov 2019"
   ]
  },
  {
   "cell_type": "markdown",
   "metadata": {},
   "source": [
    "Question 1: Create a function to find the following:\n",
    "If the base of triangle is 3 cm long and its equilateral triangle and the radius of circle is 1.5 cm then find the area of triangle shaded. \n"
   ]
  },
  {
   "cell_type": "markdown",
   "metadata": {},
   "source": [
    "![proj](q1.jpg)"
   ]
  },
  {
   "cell_type": "code",
   "execution_count": 4,
   "metadata": {},
   "outputs": [
    {
     "name": "stdout",
     "output_type": "stream",
     "text": [
      "Enter side in equilateral triangle in cm: 3\n",
      "Enter the radius of circle in cm: 1.5\n",
      "The area of shading part of triangle is:  16.31410243160281 c002\n"
     ]
    }
   ],
   "source": [
    "from math import pi, sin\n",
    "def shadedArea(base,radius):\n",
    "    height = base*(sin(60*pi/180))\n",
    "    area = (1/2)*base*height\n",
    "    #print(area)\n",
    "    area_of_circle = pi*radius**2\n",
    "    shaded_Area = (area*6)-(area_of_circle)\n",
    "    print(\"The area of shading part of triangle is: \",shaded_Area,\"cm\\b002\")\n",
    "    return\n",
    "base = eval(input(\"Enter side in equilateral triangle in cm: \"))\n",
    "radius = eval(input(\"Enter the radius of circle in cm: \"))\n",
    "shadedArea(base,radius)"
   ]
  },
  {
   "cell_type": "markdown",
   "metadata": {},
   "source": [
    "Question 2: Create a function which can read a dictionary of your family members such as 5 members. \n",
    "1 Abbu, 1 Ammi, 2 Brothers 1 Sister. Now feed this data in dictionary in terms of name and relations.\n",
    "The UDF will ask findrelation() in this you will enter Brother it will return the names of two brothers you have inserted. In case if the relation is not found it will return “Sorry the relation doesn’t exist in your family.” \n"
   ]
  },
  {
   "cell_type": "code",
   "execution_count": 18,
   "metadata": {},
   "outputs": [
    {
     "name": "stdout",
     "output_type": "stream",
     "text": [
      "Find relation ship: sister\n",
      "name:  Aiza\n"
     ]
    }
   ],
   "source": [
    "def findrelation(x):\n",
    "    family = {\"father\":\"Imtiaz Ahmed\",\"mother\":\"Bilquis\",\"brother\":\"Saad\",\"sister\":\"Aiza\"}\n",
    "    if x == \"brother\" or x == \"sister\" or x == \"mother\" or x==\"father\":\n",
    "        print(\"name: \",family[x])\n",
    "        \n",
    "    else:\n",
    "        print(\"No relation found!\")\n",
    "    return\n",
    "x=input(\"Find relation ship: \")\n",
    "findrelation(x)"
   ]
  },
  {
   "cell_type": "markdown",
   "metadata": {},
   "source": [
    "Question 3: Create a function to find the following:\n",
    "If the base of triangle is 5 cm long and its equilateral triangle and the radius of circle is 2.25 cm then find the area of triangle shaded. \n"
   ]
  },
  {
   "cell_type": "markdown",
   "metadata": {},
   "source": [
    "![proj](q3.jpg)"
   ]
  },
  {
   "cell_type": "code",
   "execution_count": 19,
   "metadata": {},
   "outputs": [
    {
     "name": "stdout",
     "output_type": "stream",
     "text": [
      "Enter radius in cm: 2.25\n",
      "Shaded area in one triangle is:  2.650718801466388 cm²\n"
     ]
    }
   ],
   "source": [
    "from math import pi\n",
    "\n",
    "def shadedarea(radius):\n",
    "    area = (pi* radius**2)/6\n",
    "    print(\"Shaded area in one triangle is: \",area,\"cm\\u00b2\")\n",
    "    return\n",
    "radius = eval(input(\"Enter radius in cm: \"))\n",
    "shadedarea(radius)"
   ]
  },
  {
   "cell_type": "markdown",
   "metadata": {},
   "source": [
    "Question 4:\n",
    "Create a function that takes a list of random numbers from users and add only those which are even. If all the numbers are odd it will return sorry no even number found.\n"
   ]
  },
  {
   "cell_type": "code",
   "execution_count": 20,
   "metadata": {},
   "outputs": [
    {
     "name": "stdout",
     "output_type": "stream",
     "text": [
      "Enter the size of list: 5\n",
      "Enter the location 0\n",
      "1\n",
      "Enter the location 1\n",
      "3\n",
      "Enter the location 2\n",
      "6\n",
      "Enter the location 3\n",
      "5\n",
      "Enter the location 4\n",
      "4\n",
      "Sorry odd number\n",
      "[6]\n",
      "The sum of even number in list is:  6\n",
      "[6, 4]\n",
      "The sum of even number in list is:  10\n",
      "Sorry odd number\n",
      "[6, 4, 6]\n",
      "The sum of even number in list is:  16\n",
      "[6, 4, 6, 4]\n",
      "The sum of even number in list is:  20\n",
      "Sorry odd number\n",
      "[6, 4, 6, 4, 6]\n",
      "The sum of even number in list is:  26\n",
      "[6, 4, 6, 4, 6, 4]\n",
      "The sum of even number in list is:  30\n"
     ]
    }
   ],
   "source": [
    "list=[]\n",
    "x=int(input(\"Enter the size of list: \"))\n",
    "for i in range(0,x):\n",
    "    print(\"Enter the location\",i)\n",
    "    number = int(input())\n",
    "    list.append(number)\n",
    "def addeven(list):\n",
    "    even=[]\n",
    "    odd=[]\n",
    "    for i in list:\n",
    "        if (i % 2 == 1):\n",
    "            print(\"Sorry odd number\")\n",
    "            for i in list:\n",
    "                if(i % 2== 0):\n",
    "                    even.append(i)\n",
    "                    print(even)\n",
    "                    sumeven = sum(even)\n",
    "                    print(\"The sum of even number in list is: \",sumeven)\n",
    "    return\n",
    "\n",
    "addeven(list)"
   ]
  },
  {
   "cell_type": "markdown",
   "metadata": {},
   "source": [
    "Question 5:\n",
    "Write a function which can take a list of numbers and it will return sorted list.\n"
   ]
  },
  {
   "cell_type": "code",
   "execution_count": 6,
   "metadata": {},
   "outputs": [
    {
     "name": "stdout",
     "output_type": "stream",
     "text": [
      "[2, 3, 4, 5, 8]\n"
     ]
    }
   ],
   "source": [
    "def sortedlst():\n",
    "    lst = [2,4,3,8,5]\n",
    "    lst.sort()\n",
    "    print(lst)\n",
    "    return\n",
    "sortedlst()"
   ]
  },
  {
   "cell_type": "markdown",
   "metadata": {},
   "source": [
    "Question 6:\n",
    "Write a function that will take the radius and return the perimeter and area of circle with 5% increment.\n"
   ]
  },
  {
   "cell_type": "code",
   "execution_count": 8,
   "metadata": {},
   "outputs": [
    {
     "name": "stdout",
     "output_type": "stream",
     "text": [
      "Enter the radius of circle: 3\n",
      "The area of circle with 5% increment is:  29.688050576423546 cm²\n",
      "The perimeter of circle with 5% increment is:  19.792033717615695 cm\n"
     ]
    }
   ],
   "source": [
    "from math import pi\n",
    "def circle(radius):\n",
    "    area = pi*radius**2\n",
    "    peri = 2*pi*radius\n",
    "    inc_area = (area*0.05) + area \n",
    "    inc_peri = (peri*0.05) + peri\n",
    "    print(\"The area of circle with 5% increment is: \",inc_area,\"cm\\u00b2\\nThe perimeter of circle with 5% increment is: \",inc_peri,\"cm\")\n",
    "    return\n",
    "radius = eval(input(\"Enter the radius of circle: \"))\n",
    "circle(radius)\n",
    "    "
   ]
  },
  {
   "cell_type": "markdown",
   "metadata": {},
   "source": [
    "Question 7:\n",
    "Write a function that will take the strings as argument and return number of vowels and consonants.\n"
   ]
  },
  {
   "cell_type": "code",
   "execution_count": 9,
   "metadata": {},
   "outputs": [
    {
     "name": "stdout",
     "output_type": "stream",
     "text": [
      "Enter your name: areesha\n",
      "The numbers of vowels in areesha is:  4 \n",
      "The numbers of consonants in areesha is:  3\n"
     ]
    }
   ],
   "source": [
    "def counter(name):\n",
    "    vowel = 0\n",
    "    consonant = 0\n",
    "    for i in name:\n",
    "        if i in \"AEIOUaeiou\":\n",
    "            vowel = vowel + 1\n",
    "        else:\n",
    "            consonant = consonant + 1\n",
    "    print(\"The numbers of vowels in\",name, \"is: \",vowel,\"\\nThe numbers of consonants in\",name,\"is: \",consonant)\n",
    "    return\n",
    "name = str(input(\"Enter your name: \"))\n",
    "counter(name) "
   ]
  },
  {
   "cell_type": "markdown",
   "metadata": {},
   "source": [
    "Question 8:\n",
    "Write a function that will take length and breadth for a rectangle and return perimeter and area of rectangle with 8% increment.\n"
   ]
  },
  {
   "cell_type": "code",
   "execution_count": 21,
   "metadata": {},
   "outputs": [
    {
     "name": "stdout",
     "output_type": "stream",
     "text": [
      "Enter length in cm: 4\n",
      "Enter breadth in cm: 5\n",
      "Area of rectangle is:  20 cm² \n",
      "Perimeter of rectangle is:  18 cm\n",
      "8% increment of area:  21.6 cm² \n",
      "8% increment of area: 19.44 cm\n"
     ]
    }
   ],
   "source": [
    "from math import pi\n",
    "def rec(l,b):\n",
    "    area = l*b\n",
    "    peri = (l*2)+(b*2)\n",
    "    inc_area= area * 0.08\n",
    "    inc_peri = peri * 0.08\n",
    "    print(\"Area of rectangle is: \",area,\"cm\\u00b2 \\nPerimeter of rectangle is: \",peri,\"cm\")\n",
    "    print(\"8% increment of area: \",area+inc_area,\"cm\\u00b2 \\n8% increment of area:\",peri+inc_peri,\"cm\")\n",
    "    return\n",
    "l = eval(input(\"Enter length in cm: \"))\n",
    "b = eval(input(\"Enter breadth in cm: \"))\n",
    "rec(l,b)"
   ]
  },
  {
   "cell_type": "markdown",
   "metadata": {},
   "source": [
    "Question 9:\n",
    "Write a function that can take the numbers in strings. From string find which number is even and which one is odd. Save them in two different lists and generate the result.\n"
   ]
  },
  {
   "cell_type": "code",
   "execution_count": 11,
   "metadata": {},
   "outputs": [
    {
     "name": "stdout",
     "output_type": "stream",
     "text": [
      "Enter the number: 4\n",
      "The even list is  ['4']\n"
     ]
    }
   ],
   "source": [
    "def evenOdd(number):\n",
    "    x = int(number)\n",
    "    even = []\n",
    "    odd = []\n",
    "    if (x % 2 == 0):\n",
    "        x = str(number)\n",
    "        even.append(x)\n",
    "        print(\"The even list is \", even)\n",
    "    else:\n",
    "        x = str(number)\n",
    "        odd.appemd(x)\n",
    "        print(\"The odd list is \",odd)\n",
    "    return\n",
    "number = str(input(\"Enter the number: \"))\n",
    "evenOdd(number)"
   ]
  },
  {
   "cell_type": "markdown",
   "metadata": {},
   "source": [
    "Question 10:\n",
    "Write a function which will take the string from the user and return how many alphabets have been used in it and which alphabets are missing.\n"
   ]
  },
  {
   "cell_type": "code",
   "execution_count": null,
   "metadata": {},
   "outputs": [],
   "source": []
  },
  {
   "cell_type": "markdown",
   "metadata": {},
   "source": [
    "Question 11:\n",
    "Write a function that will take verbs in words and return a list of verbs with continuous tense by adding (ing) at the end of each verb.\n"
   ]
  },
  {
   "cell_type": "code",
   "execution_count": 12,
   "metadata": {},
   "outputs": [
    {
     "name": "stdout",
     "output_type": "stream",
     "text": [
      "Enter verbplay\n",
      "continuous tense is: playing\n"
     ]
    }
   ],
   "source": [
    "def verb(v):\n",
    "    print(\"continuous tense is: \"+v+\"ing\")\n",
    "    return\n",
    "v = str(input(\"Enter verb\"))\n",
    "verb(v)"
   ]
  },
  {
   "cell_type": "markdown",
   "metadata": {},
   "source": [
    "Question 12:\n",
    "Make a function which can take two radius of circles and find the areas of it and subtract smaller one from larger one and tell the remaining area of circle.\n"
   ]
  },
  {
   "cell_type": "code",
   "execution_count": 13,
   "metadata": {},
   "outputs": [
    {
     "name": "stdout",
     "output_type": "stream",
     "text": [
      "Enter radius of first circle: 4\n",
      "Enter radius of second circle: 6\n",
      "Area of 1st circle is:  50.26548245743669 cm²\n",
      "Area of 2nd circle is:  113.09733552923255 cm²\n",
      "The remaining area is:  62.83185307179586 cm²\n"
     ]
    }
   ],
   "source": [
    "from math import pi\n",
    "def area(r1,r2):\n",
    "    area1 = pi * r1**2\n",
    "    print(\"Area of 1st circle is: \",area1,\"cm\\u00b2\")\n",
    "    area2 = pi * r2**2\n",
    "    print(\"Area of 2nd circle is: \",area2,\"cm\\u00b2\")\n",
    "    if r1 > r2:\n",
    "        x = area1 - area2\n",
    "        print(\"The remaining area is: \",x,\"cm\\u00b2\")\n",
    "    else:\n",
    "        x = area2 - area1\n",
    "        print(\"The remaining area is: \",x,\"cm\\u00b2\")\n",
    "    return\n",
    "r1 = eval(input(\"Enter radius of first circle: \"))\n",
    "r2 = eval(input(\"Enter radius of second circle: \"))\n",
    "area(r1,r2)"
   ]
  },
  {
   "cell_type": "markdown",
   "metadata": {},
   "source": [
    "Question 13:\n",
    "Write a function that will take a string and calculate number of Upper case letters and lower case letters.\n"
   ]
  },
  {
   "cell_type": "code",
   "execution_count": 17,
   "metadata": {},
   "outputs": [
    {
     "name": "stdout",
     "output_type": "stream",
     "text": [
      "Enter your string: AreeSha\n",
      "Number of lower case:  5\n",
      "Number of upper case:  2\n"
     ]
    }
   ],
   "source": [
    "def counter(string):\n",
    "    count_upper = 0\n",
    "    count_lower = 0\n",
    "    for i in string:\n",
    "        if(i.islower()):\n",
    "            count_lower = count_lower+1\n",
    "        elif(i.isupper()):\n",
    "            count_upper = count_upper+1\n",
    "    print(\"Number of lower case: \",count_lower)\n",
    "    print(\"Number of upper case: \",count_upper)\n",
    "    return\n",
    "string = str(input(\"Enter your string: \"))\n",
    "counter(string)"
   ]
  },
  {
   "cell_type": "markdown",
   "metadata": {},
   "source": [
    "Question 14:\n",
    "Write a function which will take length and breadth of two rectangles. Subtract the smaller rectangle from the larger rectangle and return the area left behind.\n"
   ]
  },
  {
   "cell_type": "code",
   "execution_count": 16,
   "metadata": {},
   "outputs": [
    {
     "name": "stdout",
     "output_type": "stream",
     "text": [
      "Enter length of first rectangle: 4\n",
      "Enter length of second rectangle: 5\n",
      "Enter breadth of first rectangle: 4\n",
      "Enter breadth of second rectangle: 5\n",
      "Area of 1st rectangle is:  16 cm²\n",
      "Area of 2nd rectangle is:  25 cm²\n",
      "The remaining area is:  9 cm²\n"
     ]
    }
   ],
   "source": [
    "from math import pi\n",
    "def area(l1,l2,b1,b2):\n",
    "    area1 = l1 * b1\n",
    "    print(\"Area of 1st rectangle is: \",area1,\"cm\\u00b2\")\n",
    "    area2 = l2 * b2\n",
    "    print(\"Area of 2nd rectangle is: \",area2,\"cm\\u00b2\")\n",
    "    if l1 > l2 or b1 > b2:\n",
    "        x = area1 - area2\n",
    "        print(\"The remaining area is: \",x,\"cm\\u00b2\")\n",
    "    else:\n",
    "        x = area2 - area1\n",
    "        print(\"The remaining area is: \",x,\"cm\\u00b2\")\n",
    "    return\n",
    "l1 = eval(input(\"Enter length of first rectangle: \"))\n",
    "l2 = eval(input(\"Enter length of second rectangle: \"))\n",
    "b1 = eval(input(\"Enter breadth of first rectangle: \"))\n",
    "b2 = eval(input(\"Enter breadth of second rectangle: \"))\n",
    "area(l1,l2,b1,b2)"
   ]
  },
  {
   "cell_type": "markdown",
   "metadata": {},
   "source": [
    "Question 15:\n",
    "Create a function that can add the fractions in series such as 1 to 8 = 1/8+1/7+1/6+1/5 …… ½ and return the result in fraction not in decimal.\n"
   ]
  },
  {
   "cell_type": "code",
   "execution_count": 15,
   "metadata": {},
   "outputs": [
    {
     "name": "stdout",
     "output_type": "stream",
     "text": [
      "Enter staring value of series: 1\n",
      "Enter ending value of series: 8\n",
      "The sum of fractions is:  363/140\n"
     ]
    }
   ],
   "source": [
    "from fractions import Fraction\n",
    "def addfraction(st_value,lt_value):\n",
    "    sum = 0\n",
    "    for i in range(st_value,lt_value):\n",
    "        sum = sum +Fraction(1,i)\n",
    "    print(\"The sum of fractions is: \",sum)\n",
    "    return\n",
    "\n",
    "st_value = int(input(\"Enter staring value of series: \"))\n",
    "lt_value = int(input(\"Enter ending value of series: \"))\n",
    "addfraction(st_value,lt_value)"
   ]
  },
  {
   "cell_type": "markdown",
   "metadata": {},
   "source": [
    "Question 16:\n",
    "Write a function which will take height and base for a triangle and \n"
   ]
  },
  {
   "cell_type": "code",
   "execution_count": null,
   "metadata": {},
   "outputs": [],
   "source": []
  },
  {
   "cell_type": "markdown",
   "metadata": {},
   "source": [
    "Question 17:\n",
    "Write a function which will take a list of fruits names. The function will return how many alphabets are repetitive in the names of fruits and how many are unique letters.\n"
   ]
  },
  {
   "cell_type": "code",
   "execution_count": null,
   "metadata": {},
   "outputs": [],
   "source": []
  },
  {
   "cell_type": "markdown",
   "metadata": {},
   "source": [
    "Question 18:\n",
    "Write a function that can take square length and radius of circle. Find the area of both and subtract the smallest shape from largest one and return the remaining shape area.\n"
   ]
  },
  {
   "cell_type": "code",
   "execution_count": 14,
   "metadata": {},
   "outputs": [
    {
     "name": "stdout",
     "output_type": "stream",
     "text": [
      "Enter length square: 3\n",
      "Enter radius of circle: 4\n",
      "Area of square is:  9 cm²\n",
      "Area of circle is:  50.26548245743669 cm²\n",
      "The remaining area is:  41.26548245743669 cm²\n"
     ]
    }
   ],
   "source": [
    "from math import pi\n",
    "def area(l,r):\n",
    "    areaSquare = l**2\n",
    "    print(\"Area of square is: \",areaSquare,\"cm\\u00b2\")\n",
    "    areaCircle = pi * r**2\n",
    "    print(\"Area of circle is: \",areaCircle,\"cm\\u00b2\")\n",
    "    if areaSquare > areaCircle:\n",
    "        x = areaSquare - areaCircle\n",
    "        print(\"The remaining area is: \",x,\"cm\\u00b2\")\n",
    "    else:\n",
    "        x = areaCircle - areaSquare\n",
    "        print(\"The remaining area is: \",x,\"cm\\u00b2\")\n",
    "    return\n",
    "l = eval(input(\"Enter length square: \"))\n",
    "r = eval(input(\"Enter radius of circle: \"))\n",
    "area(l,r)   "
   ]
  },
  {
   "cell_type": "code",
   "execution_count": null,
   "metadata": {},
   "outputs": [],
   "source": []
  }
 ],
 "metadata": {
  "kernelspec": {
   "display_name": "Python 3",
   "language": "python",
   "name": "python3"
  },
  "language_info": {
   "codemirror_mode": {
    "name": "ipython",
    "version": 3
   },
   "file_extension": ".py",
   "mimetype": "text/x-python",
   "name": "python",
   "nbconvert_exporter": "python",
   "pygments_lexer": "ipython3",
   "version": "3.7.3"
  }
 },
 "nbformat": 4,
 "nbformat_minor": 2
}
